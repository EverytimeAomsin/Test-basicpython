{
  "nbformat": 4,
  "nbformat_minor": 0,
  "metadata": {
    "colab": {
      "name": "HT6411_10 สาริน ขุนจันทร์.ipynb",
      "provenance": [],
      "collapsed_sections": []
    },
    "kernelspec": {
      "name": "python3",
      "display_name": "Python 3"
    }
  },
  "cells": [
    {
      "cell_type": "code",
      "metadata": {
        "colab": {
          "base_uri": "https://localhost:8080/"
        },
        "id": "M9FLqtye0oEK",
        "outputId": "ca7a7ffe-1cc9-4ba6-f786-69a8bf090ab1"
      },
      "source": [
        "print(\"ถ้าคะแนนมากกว่าหรือเท่ากับ 80 คะแนนจะได้ A \\nถ้าคะแนนเท่ากับ 70-79 คะแนนจะได้ B \\nถ้าคะแนนเท่ากับ 60-69 คะแนนจะได้ C \\nถ้าคะแนนเท่ากับ 50-59 คะแนนจะได้ D \")\n",
        "print(\"ถ้าคะแนนน้อยกว่า 50 เกรดจะเป็น F โดยอัตโนมัติ\")\n",
        "mark = int(input(\"please enter your mark : \"))\n",
        "print(\"-------------------------------------\")"
      ],
      "execution_count": null,
      "outputs": [
        {
          "output_type": "stream",
          "text": [
            "ถ้าคะแนนมากกว่าหรือเท่ากับ 80 คะแนนจะได้ A \n",
            "ถ้าคะแนนเท่ากับ 70-79 คะแนนจะได้ B \n",
            "ถ้าคะแนนเท่ากับ 60-69 คะแนนจะได้ C \n",
            "ถ้าคะแนนเท่ากับ 50-59 คะแนนจะได้ D \n",
            "ถ้าคะแนนน้อยกว่า 50 เกรดจะเป็น F โดยอัตโนมัติ\n",
            "please enter your mark : -1\n",
            "-------------------------------------\n"
          ],
          "name": "stdout"
        }
      ]
    },
    {
      "cell_type": "code",
      "metadata": {
        "id": "uCKmHGaw7cA5"
      },
      "source": [
        "if (mark >= 0 and mark <= 100):\n",
        " if mark >= 80:\n",
        "    def sum_function():\n",
        "     grade = 'A'\n",
        "     print(f'คะแนนของคุณคือ {mark} \\nเกรดของคุณคือ {grade}')\n",
        " elif mark > 69:\n",
        "   def sum_function():\n",
        "     grade = 'B'\n",
        "     print(f'คะแนนของคุณคือ {mark} \\nเกรดของคุณคือ {grade}')\n",
        " elif mark > 59:\n",
        "   def sum_function():\n",
        "     grade = 'C'\n",
        "     print(f'คะแนนของคุณคือ {mark} \\nเกรดของคุณคือ {grade}')\n",
        " elif mark >= 50:\n",
        "   def sum_function():\n",
        "     grade = 'D'\n",
        "     print(f'คะแนนของคุณคือ {mark} \\nเกรดของคุณคือ {grade}')\n",
        " else :\n",
        "   def sum_function():\n",
        "     grade = 'F'\n",
        "     print(f'คะแนนของคุณคือ {mark} \\nเกรดของคุณคือ {grade}')\n",
        "else:\n",
        "  def sum_function():\n",
        "     print(f'ระบบนี้ใส่ได้เฉพาะคะแนน 1-100 ครับ')\n"
      ],
      "execution_count": null,
      "outputs": []
    },
    {
      "cell_type": "code",
      "metadata": {
        "colab": {
          "base_uri": "https://localhost:8080/"
        },
        "id": "mDrUQQfnAyFy",
        "outputId": "cd6892c8-69cb-476c-8eae-fd222ca68b07"
      },
      "source": [
        "sum_function()\n",
        "#HT6411_10 สาริน ขุนจันทร์"
      ],
      "execution_count": null,
      "outputs": [
        {
          "output_type": "stream",
          "text": [
            "ระบบนี้ใส่ได้เฉพาะคะแนน 1-100 ครับ\n"
          ],
          "name": "stdout"
        }
      ]
    }
  ]
}